{
 "cells": [
  {
   "cell_type": "markdown",
   "metadata": {},
   "source": [
    "# Import and clean the data"
   ]
  },
  {
   "cell_type": "markdown",
   "metadata": {},
   "source": [
    "Read in the .csv file.  This .csv file has been reduced to only the necessary columns. The full data set can be downloaded from ICON. It has a _ORG suffix.\n",
    "  \n",
    "Look at the data shape to determine the number of rows and columns."
   ]
  },
  {
   "cell_type": "code",
   "execution_count": 2,
   "metadata": {},
   "outputs": [
    {
     "name": "stdout",
     "output_type": "stream",
     "text": [
      "(23997, 9)\n"
     ]
    },
    {
     "data": {
      "text/html": [
       "<div>\n",
       "<style scoped>\n",
       "    .dataframe tbody tr th:only-of-type {\n",
       "        vertical-align: middle;\n",
       "    }\n",
       "\n",
       "    .dataframe tbody tr th {\n",
       "        vertical-align: top;\n",
       "    }\n",
       "\n",
       "    .dataframe thead th {\n",
       "        text-align: right;\n",
       "    }\n",
       "</style>\n",
       "<table border=\"1\" class=\"dataframe\">\n",
       "  <thead>\n",
       "    <tr style=\"text-align: right;\">\n",
       "      <th></th>\n",
       "      <th>age</th>\n",
       "      <th>gender</th>\n",
       "      <th>country</th>\n",
       "      <th>highest_deg</th>\n",
       "      <th>code_experience</th>\n",
       "      <th>current_title</th>\n",
       "      <th>industry</th>\n",
       "      <th>company_size</th>\n",
       "      <th>annual_comp</th>\n",
       "    </tr>\n",
       "  </thead>\n",
       "  <tbody>\n",
       "    <tr>\n",
       "      <th>0</th>\n",
       "      <td>30-34</td>\n",
       "      <td>Man</td>\n",
       "      <td>India</td>\n",
       "      <td>NaN</td>\n",
       "      <td>NaN</td>\n",
       "      <td>NaN</td>\n",
       "      <td>NaN</td>\n",
       "      <td>NaN</td>\n",
       "      <td>NaN</td>\n",
       "    </tr>\n",
       "    <tr>\n",
       "      <th>1</th>\n",
       "      <td>30-34</td>\n",
       "      <td>Man</td>\n",
       "      <td>Algeria</td>\n",
       "      <td>Master’s degree</td>\n",
       "      <td>1-3 years</td>\n",
       "      <td>NaN</td>\n",
       "      <td>NaN</td>\n",
       "      <td>NaN</td>\n",
       "      <td>NaN</td>\n",
       "    </tr>\n",
       "    <tr>\n",
       "      <th>2</th>\n",
       "      <td>18-21</td>\n",
       "      <td>Man</td>\n",
       "      <td>Egypt</td>\n",
       "      <td>Bachelor’s degree</td>\n",
       "      <td>1-3 years</td>\n",
       "      <td>NaN</td>\n",
       "      <td>NaN</td>\n",
       "      <td>NaN</td>\n",
       "      <td>NaN</td>\n",
       "    </tr>\n",
       "    <tr>\n",
       "      <th>3</th>\n",
       "      <td>55-59</td>\n",
       "      <td>Man</td>\n",
       "      <td>France</td>\n",
       "      <td>Some college/university study without earning ...</td>\n",
       "      <td>10-20 years</td>\n",
       "      <td>Data Scientist</td>\n",
       "      <td>Online Service/Internet-based Services</td>\n",
       "      <td>0-49 employees</td>\n",
       "      <td>25,000-29,999</td>\n",
       "    </tr>\n",
       "    <tr>\n",
       "      <th>4</th>\n",
       "      <td>45-49</td>\n",
       "      <td>Man</td>\n",
       "      <td>India</td>\n",
       "      <td>Bachelor’s degree</td>\n",
       "      <td>5-10 years</td>\n",
       "      <td>NaN</td>\n",
       "      <td>NaN</td>\n",
       "      <td>NaN</td>\n",
       "      <td>NaN</td>\n",
       "    </tr>\n",
       "  </tbody>\n",
       "</table>\n",
       "</div>"
      ],
      "text/plain": [
       "     age gender  country                                        highest_deg  \\\n",
       "0  30-34    Man    India                                                NaN   \n",
       "1  30-34    Man  Algeria                                    Master’s degree   \n",
       "2  18-21    Man    Egypt                                  Bachelor’s degree   \n",
       "3  55-59    Man   France  Some college/university study without earning ...   \n",
       "4  45-49    Man    India                                  Bachelor’s degree   \n",
       "\n",
       "  code_experience   current_title                                industry  \\\n",
       "0             NaN             NaN                                     NaN   \n",
       "1       1-3 years             NaN                                     NaN   \n",
       "2       1-3 years             NaN                                     NaN   \n",
       "3     10-20 years  Data Scientist  Online Service/Internet-based Services   \n",
       "4      5-10 years             NaN                                     NaN   \n",
       "\n",
       "     company_size    annual_comp  \n",
       "0             NaN            NaN  \n",
       "1             NaN            NaN  \n",
       "2             NaN            NaN  \n",
       "3  0-49 employees  25,000-29,999  \n",
       "4             NaN            NaN  "
      ]
     },
     "execution_count": 2,
     "metadata": {},
     "output_type": "execute_result"
    }
   ],
   "source": [
    "import pandas as pd\n",
    "data = pd.read_csv('2022_kaggle_survey_results_public.csv')\n",
    "\n",
    "print(data.shape) # rows, columns\n",
    "\n",
    "data.head() # look at the first few rows"
   ]
  },
  {
   "cell_type": "markdown",
   "metadata": {},
   "source": [
    "How many cells are NULL in each column?"
   ]
  },
  {
   "cell_type": "code",
   "execution_count": null,
   "metadata": {},
   "outputs": [],
   "source": [
    "data.isnull().sum() # check for missing values in each column"
   ]
  },
  {
   "cell_type": "markdown",
   "metadata": {},
   "source": [
    "What proportion of the data contains one or more missing values (NULL) in the row?"
   ]
  },
  {
   "cell_type": "code",
   "execution_count": null,
   "metadata": {},
   "outputs": [],
   "source": [
    "(data.shape[0] - data.dropna().shape[0])/data.shape[0] # proportion of rows with missing values\n",
    "#24% of the rows have missing values"
   ]
  },
  {
   "cell_type": "markdown",
   "metadata": {},
   "source": [
    "We could imputate the missing values with the mean of the column but we are not focused on tuning so we will just drop the rows with missing values."
   ]
  },
  {
   "cell_type": "code",
   "execution_count": 5,
   "metadata": {},
   "outputs": [],
   "source": [
    "# drop rows with missing values (NULLs)\n",
    "data.dropna(inplace=True)"
   ]
  },
  {
   "cell_type": "markdown",
   "metadata": {},
   "source": [
    "How has the data shape changed from the original?  \n",
    "rows, columns  "
   ]
  },
  {
   "cell_type": "code",
   "execution_count": null,
   "metadata": {},
   "outputs": [],
   "source": [
    "data.shape  # rows, columns"
   ]
  },
  {
   "cell_type": "markdown",
   "metadata": {},
   "source": [
    "Look at the first few rows of the data frame."
   ]
  },
  {
   "cell_type": "code",
   "execution_count": null,
   "metadata": {},
   "outputs": [],
   "source": [
    "data.head()"
   ]
  },
  {
   "cell_type": "markdown",
   "metadata": {},
   "source": [
    "Split the data into x and y data frames separating independent and dependent variables for prediction."
   ]
  },
  {
   "cell_type": "code",
   "execution_count": 9,
   "metadata": {},
   "outputs": [],
   "source": [
    "x = data.loc[:,['age','gender','country','highest_deg','code_experience','current_title', 'company_size']]\n",
    "y = data.loc[:,['annual_comp']]"
   ]
  },
  {
   "cell_type": "markdown",
   "metadata": {},
   "source": [
    "Review the first few rows of each data frame."
   ]
  },
  {
   "cell_type": "code",
   "execution_count": null,
   "metadata": {},
   "outputs": [],
   "source": [
    "y.head()"
   ]
  },
  {
   "cell_type": "code",
   "execution_count": null,
   "metadata": {},
   "outputs": [],
   "source": [
    "x.head()"
   ]
  },
  {
   "cell_type": "markdown",
   "metadata": {},
   "source": [
    "In the x data frame, map the categorical variables to numerical values for use in the regression model."
   ]
  },
  {
   "cell_type": "code",
   "execution_count": 12,
   "metadata": {},
   "outputs": [],
   "source": [
    "# perform label encoding since we have categorical variables\n",
    "from sklearn.preprocessing import LabelEncoder\n",
    "\n",
    "# List of columns you want to encode\n",
    "columns_to_encode = [\n",
    "    \"age\",\n",
    "    \"gender\",\n",
    "    \"country\",\n",
    "    \"highest_deg\",\n",
    "    \"code_experience\",\n",
    "    \"current_title\",\n",
    "    \"company_size\",\n",
    "]\n",
    "\n",
    "# Loop through each column and apply LabelEncoder individually\n",
    "for column in columns_to_encode:\n",
    "    # Create a new instance of LabelEncoder for each column\n",
    "    le = LabelEncoder()\n",
    "\n",
    "    # Fit and transform the column and assign it back to the DataFrame\n",
    "    x[column +'_enc'] = le.fit_transform(x[column])"
   ]
  },
  {
   "cell_type": "markdown",
   "metadata": {},
   "source": [
    "You should now see both the categorical and encoded columns (_enc) in the data frame."
   ]
  },
  {
   "cell_type": "code",
   "execution_count": null,
   "metadata": {},
   "outputs": [],
   "source": [
    "x.head()"
   ]
  },
  {
   "cell_type": "markdown",
   "metadata": {},
   "source": [
    "Print a map of the categorical values and the corresponding encoded values.  Copy the returned data and paste it somewhere you can refer back to it frequently."
   ]
  },
  {
   "cell_type": "code",
   "execution_count": null,
   "metadata": {},
   "outputs": [],
   "source": [
    "# make a map of the categorical values and their corresponding encoded values\n",
    "from sklearn.preprocessing import LabelEncoder\n",
    "\n",
    "# Initialize the LabelEncoder\n",
    "le = LabelEncoder()\n",
    "\n",
    "columns_to_encode = [\n",
    "    \"age\",\n",
    "    \"gender\",\n",
    "    \"country\",\n",
    "    \"highest_deg\",\n",
    "    \"code_experience\",\n",
    "    \"current_title\",\n",
    "    \"company_size\",\n",
    "]\n",
    "\n",
    "# Loop through each column and apply LabelEncoder individually\n",
    "for column in columns_to_encode:\n",
    "    # Fit the encoder to the column\n",
    "    le.fit(x[column])\n",
    "\n",
    "    # Create a mapping dictionary from label to encoded value using the encoder's classes_\n",
    "    mapping = {\n",
    "        label: code for code, label in zip(le.classes_, range(len(le.classes_)))\n",
    "    }\n",
    "\n",
    "    # Display the mapping\n",
    "    print(column, \"mapping:\", mapping)"
   ]
  },
  {
   "cell_type": "markdown",
   "metadata": {},
   "source": [
    "Review the data frame again. We must drop the non-encoded columns."
   ]
  },
  {
   "cell_type": "code",
   "execution_count": null,
   "metadata": {},
   "outputs": [],
   "source": [
    "x.head()"
   ]
  },
  {
   "cell_type": "markdown",
   "metadata": {},
   "source": [
    "Drop the categorical columns. Rename the encoded columns."
   ]
  },
  {
   "cell_type": "code",
   "execution_count": 16,
   "metadata": {},
   "outputs": [],
   "source": [
    "\n",
    "# drop the categroical columns\n",
    "x.drop('age',inplace=True,axis=1) \n",
    "x.drop(\"gender\", inplace=True, axis=1)  \n",
    "x.drop(\"country\", inplace=True, axis=1)\n",
    "x.drop(\"highest_deg\", inplace=True, axis=1)  \n",
    "x.drop(\"code_experience\", inplace=True, axis=1) \n",
    "x.drop(\"current_title\", inplace=True, axis=1) \n",
    "x.drop(\"company_size\", inplace=True, axis=1)\n",
    "\n",
    "# rename the _enc columns to the original column names\n",
    "x.rename(columns={\"age_enc\": \"age\"}, inplace=True)\n",
    "x.rename(columns={\"gender_enc\": \"gender\"}, inplace=True) \n",
    "x.rename(columns={\"country_enc\": \"country\"}, inplace=True)  \n",
    "x.rename(columns={\"highest_deg_enc\": \"highest_deg\"}, inplace=True)\n",
    "x.rename(columns={\"code_experience_enc\": \"code_experience\"}, inplace=True)\n",
    "x.rename(columns={\"current_title_enc\": \"current_title\"}, inplace=True)\n",
    "x.rename(columns={\"company_size_enc\": \"company_size\"}, inplace=True)\n"
   ]
  },
  {
   "cell_type": "markdown",
   "metadata": {},
   "source": [
    "Review the x data frame again to ensure dropping and renaming happened correctly."
   ]
  },
  {
   "cell_type": "code",
   "execution_count": null,
   "metadata": {},
   "outputs": [],
   "source": [
    "x.head()"
   ]
  },
  {
   "cell_type": "markdown",
   "metadata": {},
   "source": [
    "Review the y data frame. Notice the y data is also categorical."
   ]
  },
  {
   "cell_type": "code",
   "execution_count": null,
   "metadata": {},
   "outputs": [],
   "source": [
    "y.head()"
   ]
  },
  {
   "cell_type": "markdown",
   "metadata": {},
   "source": [
    "What are the unique categorical values in the annual_comp column?"
   ]
  },
  {
   "cell_type": "code",
   "execution_count": null,
   "metadata": {},
   "outputs": [],
   "source": [
    "y.annual_comp.unique()"
   ]
  },
  {
   "cell_type": "markdown",
   "metadata": {},
   "source": [
    "This is super-sketchy.  \n",
    "\n",
    "I did this so the model would return a specific predicted salary value rather than a categorical salary range.\n",
    "\n",
    "I create a random integer between the low and high values in the categorical salary range."
   ]
  },
  {
   "cell_type": "code",
   "execution_count": null,
   "metadata": {},
   "outputs": [],
   "source": [
    "#import pandas as pd'\n",
    "import random\n",
    "\n",
    "# function to calculate the midpoint of a salary range\n",
    "def calculate_midpoint(salary_range):\n",
    "    if salary_range == \">$1,000,000\":\n",
    "        # Handle this case as needed; here I'm assuming $1,000,000 as a placeholder\n",
    "        return 1000000\n",
    "    else:\n",
    "        # Remove any commas and dollar signs, then split by '-'\n",
    "        low, high = salary_range.replace(\",\", \"\").replace(\"$\", \"\").split(\"-\")\n",
    "        # Calculate and return the midpoint\n",
    "        # midpoint = round((int(low) + int(high)) / 2)\n",
    "        # return (int(low) + midpoint)\n",
    "        return round(random.randint(int(low), int(high)))\n",
    "\n",
    "# Apply the function to the 'annual_comp' column\n",
    "y[\"annual_comp\"] = y[\"annual_comp\"].apply(calculate_midpoint)\n",
    "\n",
    "# Display the updated DataFrame\n",
    "print(y)"
   ]
  },
  {
   "cell_type": "markdown",
   "metadata": {},
   "source": [
    "Review the data frame. Have the categorical ranges been replaced by random values?"
   ]
  },
  {
   "cell_type": "code",
   "execution_count": null,
   "metadata": {},
   "outputs": [],
   "source": [
    "y.head()"
   ]
  },
  {
   "cell_type": "markdown",
   "metadata": {},
   "source": [
    "# Build the machine learning model"
   ]
  },
  {
   "cell_type": "markdown",
   "metadata": {},
   "source": [
    "Split the x and y data frames into training and testing data for the model."
   ]
  },
  {
   "cell_type": "code",
   "execution_count": 21,
   "metadata": {},
   "outputs": [],
   "source": [
    "# create a train test split\n",
    "from sklearn.model_selection import train_test_split\n",
    "x_train,x_test,y_train,y_test = train_test_split(x,y,test_size=0.2,random_state=0)"
   ]
  },
  {
   "cell_type": "markdown",
   "metadata": {},
   "source": [
    "Train a random forest regression model.\n",
    "\n",
    "I'm not a machine learning model person. I'm not entirely sure what n_estimators and max_depth are doing in this part of the code."
   ]
  },
  {
   "cell_type": "code",
   "execution_count": null,
   "metadata": {},
   "outputs": [],
   "source": [
    "# train a random forest regressor model\n",
    "from sklearn.ensemble import RandomForestRegressor\n",
    "model = RandomForestRegressor(n_estimators=70,max_depth=7)\n",
    "model.fit(x_train,y_train)\n",
    "y_predict = model.predict(x_test)"
   ]
  },
  {
   "cell_type": "markdown",
   "metadata": {},
   "source": [
    "# Model evaluation"
   ]
  },
  {
   "cell_type": "markdown",
   "metadata": {},
   "source": [
    "Get the mean absolute error and r2 score for the model. \n",
    "\n",
    "If you are a machine learning person, continue to tune the model to get the best possible scores."
   ]
  },
  {
   "cell_type": "code",
   "execution_count": null,
   "metadata": {},
   "outputs": [],
   "source": [
    "from sklearn.metrics import mean_absolute_error, r2_score\n",
    "print(\"MAE : \", mean_absolute_error(y_test,y_predict))\n",
    "print(\"r2 score : \", r2_score(y_test,y_predict))"
   ]
  },
  {
   "cell_type": "markdown",
   "metadata": {},
   "source": [
    "# Export model"
   ]
  },
  {
   "cell_type": "markdown",
   "metadata": {},
   "source": [
    "When you are happy with your model performance, dump it out to a file."
   ]
  },
  {
   "cell_type": "code",
   "execution_count": null,
   "metadata": {},
   "outputs": [],
   "source": [
    "# save the model\n",
    "import joblib\n",
    "joblib.dump(model,'salary_predict_model.ml')"
   ]
  },
  {
   "cell_type": "markdown",
   "metadata": {},
   "source": [
    "To test your model, load the model file you created in the step above."
   ]
  },
  {
   "cell_type": "code",
   "execution_count": 25,
   "metadata": {},
   "outputs": [],
   "source": [
    "# load the model we just created\n",
    "import joblib\n",
    "model = joblib.load('salary_predict_model.ml')"
   ]
  },
  {
   "cell_type": "markdown",
   "metadata": {},
   "source": [
    "Then run it, passing in dependent variables. These are the mapped numerical labels of the categorical values. You can get the numeric values by looking at the mapping you copied and pasted out to a file a few steps earlier.\n",
    "\n",
    "To predict a salary, you must pass in the values in the correct order (age,gender,country,highest_deg,coding_exp, title, company_size)\n",
    "\n",
    "7: '50-54'  \n",
    "0: 'Man'  \n",
    "55: 'United States of America'  \n",
    "3: 'Master’s degree'  \n",
    "4: '5-10 years'  \n",
    "13: 'Teacher / professor'  \n",
    "2: '1000-9,999 employees'  \n",
    "\n",
    "The returned value will be different for everyone, because the salary values are randomly generated."
   ]
  },
  {
   "cell_type": "code",
   "execution_count": null,
   "metadata": {},
   "outputs": [],
   "source": [
    "model.predict([[7,0,55,3,4,13,2]]) # predict the salary for a new data point\n"
   ]
  }
 ],
 "metadata": {
  "kernelspec": {
   "display_name": "Python 3",
   "language": "python",
   "name": "python3"
  },
  "language_info": {
   "codemirror_mode": {
    "name": "ipython",
    "version": 3
   },
   "file_extension": ".py",
   "mimetype": "text/x-python",
   "name": "python",
   "nbconvert_exporter": "python",
   "pygments_lexer": "ipython3",
   "version": "3.9.12"
  }
 },
 "nbformat": 4,
 "nbformat_minor": 2
}
